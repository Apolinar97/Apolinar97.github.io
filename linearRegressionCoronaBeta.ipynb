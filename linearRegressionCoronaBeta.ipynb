{
  "nbformat": 4,
  "nbformat_minor": 0,
  "metadata": {
    "kernelspec": {
      "display_name": "Python 3",
      "language": "python",
      "name": "python3"
    },
    "language_info": {
      "codemirror_mode": {
        "name": "ipython",
        "version": 3
      },
      "file_extension": ".py",
      "mimetype": "text/x-python",
      "name": "python",
      "nbconvert_exporter": "python",
      "pygments_lexer": "ipython3",
      "version": "3.7.4"
    },
    "colab": {
      "provenance": [],
      "include_colab_link": true
    }
  },
  "cells": [
    {
      "cell_type": "markdown",
      "metadata": {
        "id": "view-in-github",
        "colab_type": "text"
      },
      "source": [
        "<a href=\"https://colab.research.google.com/github/Apolinar97/Apolinar97.github.io/blob/main/linearRegressionCoronaBeta.ipynb\" target=\"_parent\"><img src=\"https://colab.research.google.com/assets/colab-badge.svg\" alt=\"Open In Colab\"/></a>"
      ]
    },
    {
      "cell_type": "code",
      "metadata": {
        "id": "S1mP9eZUls7u"
      },
      "source": [
        "import numpy as np\n",
        "import pandas as pd\n",
        "import datetime as dt\n",
        "from matplotlib import pyplot as plt\n",
        "from sklearn.model_selection import train_test_split\n",
        "from sklearn.linear_model import LinearRegression"
      ],
      "execution_count": 1,
      "outputs": []
    },
    {
      "cell_type": "code",
      "metadata": {
        "id": "7S8I6KHloVAD"
      },
      "source": [
        "!pip install -U -q PyDrive\n",
        "from pydrive.auth import GoogleAuth\n",
        "from pydrive.drive import GoogleDrive\n",
        "from google.colab import auth\n",
        "from oauth2client.client import GoogleCredentials\n",
        "\n"
      ],
      "execution_count": 2,
      "outputs": []
    },
    {
      "cell_type": "code",
      "metadata": {
        "id": "VtXQOQUPokH2"
      },
      "source": [
        "# auth.authenticate_user()\n",
        "# gauth = GoogleAuth()\n",
        "# gauth.credentials = GoogleCredentials.get_application_default()\n",
        "# drive = GoogleDrive(gauth)\n"
      ],
      "execution_count": 5,
      "outputs": []
    },
    {
      "cell_type": "code",
      "metadata": {
        "id": "eZhGudiqoyyl"
      },
      "source": [
        "# downloaded = drive.CreateFile({'id':'1CZl37BtGUzMLUzjq3RDc9kr9zEg4fcIr'}) # replace the id with id of file you want to access\n",
        "# downloaded.GetContentFile('coroData.csv') \n"
      ],
      "execution_count": null,
      "outputs": []
    },
    {
      "cell_type": "code",
      "metadata": {
        "id": "nUN_mhVDls7z"
      },
      "source": [
        "df = pd.read_csv(\"/corodata.csv\")\n",
        "#Reverse order of df\n",
        "df = df.iloc[::-1]\n",
        "#convert to datetime \n",
        "df['Date'] = pd.to_datetime(df['Date'])\n",
        "#convert datetime to ordinal\n",
        "\n",
        "df['Date'] = df['Date'].map(dt.datetime.toordinal)\n",
        "\n",
        "dates = df.iloc[:, :-1].values\n",
        "cases = df.iloc[:, 1].values\n",
        "\n"
      ],
      "execution_count": 14,
      "outputs": []
    },
    {
      "cell_type": "code",
      "metadata": {
        "id": "Z04j7oN8ls72",
        "colab": {
          "base_uri": "https://localhost:8080/"
        },
        "outputId": "7ddfaced-6a79-42eb-cd27-bb583214b82a"
      },
      "source": [
        "date_train, date_test, case_train, case_test = train_test_split(dates,cases,test_size=1/5,random_state=0)\n",
        "\n",
        "regressor = LinearRegression()\n",
        "regressor.fit(date_train,case_train)\n"
      ],
      "execution_count": 15,
      "outputs": [
        {
          "output_type": "execute_result",
          "data": {
            "text/plain": [
              "LinearRegression()"
            ]
          },
          "metadata": {},
          "execution_count": 15
        }
      ]
    },
    {
      "cell_type": "code",
      "metadata": {
        "id": "yP3ii0vWls75",
        "colab": {
          "base_uri": "https://localhost:8080/"
        },
        "outputId": "a2c1cacd-97a5-4802-cce7-a4c6fc41797a"
      },
      "source": [
        "print(\"Intercept=\", regressor.intercept_)\n",
        "# Retrieve the slope:\n",
        "print(\"Slope=\", regressor.coef_)\n",
        "print(\"Score=\", regressor.score)"
      ],
      "execution_count": 16,
      "outputs": [
        {
          "output_type": "stream",
          "name": "stdout",
          "text": [
            "Intercept= -2369914660.277955\n",
            "Slope= [3213.66177082]\n",
            "Score= <bound method RegressorMixin.score of LinearRegression()>\n"
          ]
        }
      ]
    },
    {
      "cell_type": "code",
      "metadata": {
        "id": "2NUsOzDcls78"
      },
      "source": [
        "case_predict = regressor.predict(date_test)"
      ],
      "execution_count": 18,
      "outputs": []
    },
    {
      "cell_type": "code",
      "metadata": {
        "id": "uXNSJfdils7_",
        "colab": {
          "base_uri": "https://localhost:8080/",
          "height": 295
        },
        "outputId": "b556ad8d-223a-4b21-bc6d-29601d0061f1"
      },
      "source": [
        "#Visulize the training results:\n",
        "plt.scatter(date_train, case_train, color = 'red')\n",
        "plt.plot(date_train, regressor.predict(date_train), color = 'blue')\n",
        "plt.title('Date vs Corona Virus Cases  (Training Set)')\n",
        "plt.xlabel('Dates')\n",
        "plt.ylabel('Cases')\n",
        "plt.show()"
      ],
      "execution_count": 19,
      "outputs": [
        {
          "output_type": "display_data",
          "data": {
            "text/plain": [
              "<Figure size 432x288 with 1 Axes>"
            ],
            "image/png": "[encoded data removed]"
          },
          "metadata": {
            "needs_background": "light"
          }
        }
      ]
    },
    {
      "cell_type": "code",
      "metadata": {
        "id": "ZyBs5UZSls8C",
        "colab": {
          "base_uri": "https://localhost:8080/",
          "height": 295
        },
        "outputId": "ac2bcec7-57e2-4fe5-c9fb-a27ce7d37f5d"
      },
      "source": [
        "plt.scatter(date_test, case_test, color = 'red')\n",
        "plt.plot(date_train, regressor.predict(date_train), color = 'blue')\n",
        "plt.title('Date vs Cases  (Test Set)')\n",
        "plt.xlabel('Date')\n",
        "plt.ylabel('Cases')\n",
        "plt.show()"
      ],
      "execution_count": 20,
      "outputs": [
        {
          "output_type": "display_data",
          "data": {
            "text/plain": [
              "<Figure size 432x288 with 1 Axes>"
            ],
            "image/png": "[encoded data removed]"
          },
          "metadata": {
            "needs_background": "light"
          }
        }
      ]
    },
    {
      "cell_type": "code",
      "metadata": {
        "id": "ethrYJb0ls8F",
        "colab": {
          "base_uri": "https://localhost:8080/"
        },
        "outputId": "ea6f0da7-42b6-4cc0-b10d-b25d35e40518"
      },
      "source": [
        "dates\n"
      ],
      "execution_count": 21,
      "outputs": [
        {
          "output_type": "execute_result",
          "data": {
            "text/plain": [
              "array([[737447],\n",
              "       [737448],\n",
              "       [737449],\n",
              "       [737450],\n",
              "       [737451],\n",
              "       [737452],\n",
              "       [737453],\n",
              "       [737454],\n",
              "       [737455],\n",
              "       [737456],\n",
              "       [737457],\n",
              "       [737458],\n",
              "       [737459],\n",
              "       [737460],\n",
              "       [737461],\n",
              "       [737462],\n",
              "       [737463],\n",
              "       [737464],\n",
              "       [737465],\n",
              "       [737466],\n",
              "       [737467],\n",
              "       [737468],\n",
              "       [737469],\n",
              "       [737470],\n",
              "       [737471]])"
            ]
          },
          "metadata": {},
          "execution_count": 21
        }
      ]
    },
    {
      "cell_type": "code",
      "metadata": {
        "id": "6NIBZz9lls8H",
        "colab": {
          "base_uri": "https://localhost:8080/"
        },
        "outputId": "8e0db180-1140-4dae-d706-f35e519aaaef"
      },
      "source": [
        "#737471 = 02/16/2020\n",
        "#737476 = 2/24/2020\n",
        "case_feb24= regressor.predict([[737479]])\n",
        "case_feb19 = regressor.predict([[737474]])\n",
        "case_feb17= regressor.predict([[737472]])\n",
        "\n",
        "print(case_feb24)\n",
        "\n",
        "print(f\"Predicted cases for 02/17/2020:{case_feb17} \")\n",
        "print(f\"Predicted cases for 02/19/2020:{case_feb19} \")\n",
        "print(f\"Predicted cases for 02/24/2020:{case_feb24} \")\n"
      ],
      "execution_count": 22,
      "outputs": [
        {
          "output_type": "stream",
          "name": "stdout",
          "text": [
            "[93408.80379677]\n",
            "Predicted cases for 02/17/2020:[70913.17140102] \n",
            "Predicted cases for 02/19/2020:[77340.49494267] \n",
            "Predicted cases for 02/24/2020:[93408.80379677] \n"
          ]
        }
      ]
    },
    {
      "cell_type": "code",
      "metadata": {
        "id": "xLkTlnYtm2oz"
      },
      "source": [],
      "execution_count": null,
      "outputs": []
    },
    {
      "cell_type": "code",
      "metadata": {
        "id": "tHOjIB3Jls8K",
        "colab": {
          "base_uri": "https://localhost:8080/"
        },
        "outputId": "3f307cf2-4d25-4d72-c16a-7d6b45301d06"
      },
      "source": [
        "case_19_percent_error = (75700 - case_feb19)/75700\n",
        "print(f\"The percent error for Feb. 19 case prediction is: {abs(case_19_percent_error*100)}\")"
      ],
      "execution_count": 23,
      "outputs": [
        {
          "output_type": "stream",
          "name": "stdout",
          "text": [
            "The percent error for Feb. 19 case prediction is: [2.16710032]\n"
          ]
        }
      ]
    },
    {
      "cell_type": "code",
      "metadata": {
        "id": "06SoE6g3ls8N"
      },
      "source": [],
      "execution_count": null,
      "outputs": []
    }
  ]
}